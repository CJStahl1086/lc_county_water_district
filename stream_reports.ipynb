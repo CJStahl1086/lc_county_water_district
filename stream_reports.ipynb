{
 "cells": [
  {
   "cell_type": "code",
   "execution_count": 10,
   "id": "0b30bca7",
   "metadata": {},
   "outputs": [],
   "source": [
    "import dataretrieval.nwis as nwis\n",
    "import pandas as pd\n",
    "import numpy as np\n",
    "import datetime as dt"
   ]
  },
  {
   "cell_type": "code",
   "execution_count": 11,
   "id": "c82a8fea",
   "metadata": {},
   "outputs": [],
   "source": [
    "#Tenmile creek report @ william st helena MT\n",
    "site = '06063000'\n",
    "start = '2022-05-04'\n",
    "end = '2022-11-03'"
   ]
  },
  {
   "cell_type": "code",
   "execution_count": 12,
   "id": "d75d4fce",
   "metadata": {},
   "outputs": [],
   "source": [
    "# sending request for tenmile report\n",
    "df = nwis.get_record(sites=site, service='iv', start=start, end=end)\n",
    "df = df.rename(columns = {'00060':'discharge_cfs', '00065':'depth'})\n",
    "df = df.reset_index()\n",
    "df = df[['datetime', 'discharge_cfs']]\n",
    "df['datetime'] = pd.to_datetime(df['datetime'])\n",
    "df = df.groupby([df['datetime'].dt.date]).mean()\n",
    "df = df.reset_index()\n",
    "df['discharge_cfs'] = round(df['discharge_cfs'],2)\n",
    "df.to_csv('tenmile_report.csv')"
   ]
  },
  {
   "cell_type": "code",
   "execution_count": 13,
   "id": "396499a6",
   "metadata": {},
   "outputs": [],
   "source": [
    "# Prickly pear creek report @ clancy\n",
    "site = '06061500'\n",
    "start = '2022-05-04'\n",
    "end = '2022-11-03'"
   ]
  },
  {
   "cell_type": "code",
   "execution_count": 15,
   "id": "4a1b03f4",
   "metadata": {},
   "outputs": [],
   "source": [
    "# sending request for prickly pear creek report report\n",
    "df = nwis.get_record(sites=site, service='iv', start=start, end=end)\n",
    "df = df.rename(columns = {'00060':'discharge_cfs', '00065':'depth'})\n",
    "df = df.reset_index()\n",
    "df = df[['datetime', 'discharge_cfs']]\n",
    "df['datetime'] = pd.to_datetime(df['datetime'])\n",
    "df = df.groupby([df['datetime'].dt.date]).mean()\n",
    "df = df.reset_index()\n",
    "df['discharge_cfs'] = round(df['discharge_cfs'],2)\n",
    "df.to_csv('prickly_pear.csv')"
   ]
  }
 ],
 "metadata": {
  "kernelspec": {
   "display_name": "Python 3 (ipykernel)",
   "language": "python",
   "name": "python3"
  },
  "language_info": {
   "codemirror_mode": {
    "name": "ipython",
    "version": 3
   },
   "file_extension": ".py",
   "mimetype": "text/x-python",
   "name": "python",
   "nbconvert_exporter": "python",
   "pygments_lexer": "ipython3",
   "version": "3.9.12"
  }
 },
 "nbformat": 4,
 "nbformat_minor": 5
}
