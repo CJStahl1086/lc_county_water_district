{
 "cells": [
  {
   "cell_type": "code",
   "execution_count": 1,
   "id": "62f02c22",
   "metadata": {},
   "outputs": [],
   "source": [
    "import datetime as dt\n",
    "import pandas as pd \n",
    "import numpy as np"
   ]
  },
  {
   "cell_type": "code",
   "execution_count": 2,
   "id": "6a18916d",
   "metadata": {},
   "outputs": [
    {
     "data": {
      "text/plain": [
       "(19784, 31)"
      ]
     },
     "execution_count": 2,
     "metadata": {},
     "output_type": "execute_result"
    }
   ],
   "source": [
    "#importing master\n",
    "master = pd.read_excel('WQPD Master.xlsx')\n",
    "master.shape"
   ]
  },
  {
   "cell_type": "code",
   "execution_count": 11,
   "id": "edbd9119",
   "metadata": {},
   "outputs": [],
   "source": [
    "#creating cleaning function for new data in december\n",
    "def clean_new(df):\n",
    "    #creating snake case\n",
    "    df.columns = [x.lower() for x in df.columns]\n",
    "    df.columns = df.columns.str.replace(' ', '_', regex=True)\n",
    "\n",
    "    #rename columns\n",
    "    df = df.rename(columns={'result_comment':'notes','#activity_id': 'activity_id'})\n",
    "    df['notes'] = df['notes'].astype(str)\n",
    "\n",
    "    #extracting project name\n",
    "    df['project_name'] = df['notes'].str.split('Project Name:').str[1]\n",
    "\n",
    "    #extracting collection date\n",
    "    df['collection_date'] = df['notes'].str[16:26]\n",
    "    df['Time stamp'] = pd.to_datetime(df['collection_date'])\n",
    "    df['collection_year'] = df['Time stamp'].dt.year\n",
    "    df['collection_time'] = df['notes'].str[27:37]\n",
    "\n",
    "    #deleting unnecessary columns \n",
    "    delcols = ['Time stamp', 'biological_intent', 'biological_taxonomic_name',\n",
    "           'biological_tissue_anatomy_name',\n",
    "           'biological_unidentified_species_name', 'characteristic_id',\n",
    "           'data_logger_line_id', 'lab_sample_prep_method_id',\n",
    "           'laboratory_comment_code', 'particle_size_basis',\n",
    "           'result_depth_height_measure', 'result_depth_height_measure_unit',\n",
    "           'result_file_name', 'result_sampling_point', 'statistic_type',\n",
    "           'weight_basis']\n",
    "    df =df.drop(columns=delcols)\n",
    "    \n",
    "    #importing master file for merging\n",
    "    master = pd.read_excel('WQPD Master.xlsx')\n",
    "    master = master.drop(columns='Unnamed: 0')\n",
    "    final = pd.concat([master, df],axis=0).reset_index(drop=True)\n",
    "    final.to_excel('WQPD Master.xlsx')\n",
    "    return(final.shape)\n",
    "    \n",
    "    "
   ]
  },
  {
   "cell_type": "code",
   "execution_count": 4,
   "id": "3fa5e379",
   "metadata": {},
   "outputs": [
    {
     "data": {
      "text/plain": [
       "(19786, 31)"
      ]
     },
     "execution_count": 4,
     "metadata": {},
     "output_type": "execute_result"
    }
   ],
   "source": [
    "#adding 2 rows of data\n",
    "df = pd.read_excel('01122015_4055_GreenMeadow.XLS')\n",
    "clean_new(df)"
   ]
  },
  {
   "cell_type": "code",
   "execution_count": 5,
   "id": "e402c978",
   "metadata": {},
   "outputs": [
    {
     "data": {
      "text/plain": [
       "(19790, 32)"
      ]
     },
     "execution_count": 5,
     "metadata": {},
     "output_type": "execute_result"
    }
   ],
   "source": [
    "#adding 4 rows of data\n",
    "df = pd.read_excel('02082011_3344_Violet.XLS')\n",
    "clean_new(df)"
   ]
  },
  {
   "cell_type": "code",
   "execution_count": 6,
   "id": "a39b20c3",
   "metadata": {},
   "outputs": [
    {
     "data": {
      "text/plain": [
       "(19796, 33)"
      ]
     },
     "execution_count": 6,
     "metadata": {},
     "output_type": "execute_result"
    }
   ],
   "source": [
    "#adding 6 rows of data\n",
    "df = pd.read_excel('03212013_1108_Middlemas.XLS')\n",
    "clean_new(df)"
   ]
  },
  {
   "cell_type": "code",
   "execution_count": 9,
   "id": "38ebb36c",
   "metadata": {},
   "outputs": [
    {
     "data": {
      "text/plain": [
       "(19861, 34)"
      ]
     },
     "execution_count": 9,
     "metadata": {},
     "output_type": "execute_result"
    }
   ],
   "source": [
    "#adding 65 rows of data\n",
    "df = pd.read_excel('03252019_Unionville.XLS')\n",
    "clean_new(df)"
   ]
  },
  {
   "cell_type": "code",
   "execution_count": 12,
   "id": "1ec398c7",
   "metadata": {},
   "outputs": [
    {
     "data": {
      "text/plain": [
       "(19915, 34)"
      ]
     },
     "execution_count": 12,
     "metadata": {},
     "output_type": "execute_result"
    }
   ],
   "source": [
    "#adding 54 rows of data\n",
    "df = pd.read_excel('03292017_WQPD.XLS')\n",
    "clean_new(df)"
   ]
  },
  {
   "cell_type": "code",
   "execution_count": 14,
   "id": "a37a0950",
   "metadata": {},
   "outputs": [
    {
     "data": {
      "text/plain": [
       "(19921, 34)"
      ]
     },
     "execution_count": 14,
     "metadata": {},
     "output_type": "execute_result"
    }
   ],
   "source": [
    "#adding 6 rows of data\n",
    "df = pd.read_excel('04032017_WQPD.XLS')\n",
    "clean_new(df)"
   ]
  },
  {
   "cell_type": "code",
   "execution_count": 16,
   "id": "166cd37b",
   "metadata": {},
   "outputs": [
    {
     "data": {
      "text/plain": [
       "(19923, 34)"
      ]
     },
     "execution_count": 16,
     "metadata": {},
     "output_type": "execute_result"
    }
   ],
   "source": [
    "#adding 2 rows of data\n",
    "df = pd.read_excel('04052017_Sharp.XLS')\n",
    "clean_new(df)"
   ]
  },
  {
   "cell_type": "code",
   "execution_count": 18,
   "id": "984d2ac9",
   "metadata": {},
   "outputs": [
    {
     "data": {
      "text/plain": [
       "(19930, 34)"
      ]
     },
     "execution_count": 18,
     "metadata": {},
     "output_type": "execute_result"
    }
   ],
   "source": [
    "#adding 7 rows of data\n",
    "df = pd.read_excel('04182012_WQPD.XLS')\n",
    "clean_new(df)"
   ]
  },
  {
   "cell_type": "code",
   "execution_count": 20,
   "id": "69c476dc",
   "metadata": {},
   "outputs": [
    {
     "data": {
      "text/plain": [
       "(19978, 34)"
      ]
     },
     "execution_count": 20,
     "metadata": {},
     "output_type": "execute_result"
    }
   ],
   "source": [
    "#adding 48 rows of data\n",
    "df = pd.read_excel('05022012_HelenaGW.XLS')\n",
    "clean_new(df)"
   ]
  },
  {
   "cell_type": "code",
   "execution_count": 23,
   "id": "13481d67",
   "metadata": {},
   "outputs": [
    {
     "data": {
      "text/plain": [
       "(19981, 34)"
      ]
     },
     "execution_count": 23,
     "metadata": {},
     "output_type": "execute_result"
    }
   ],
   "source": [
    "#adding 3 rows of data\n",
    "df = pd.read_excel('05252012_HelenaGW.XLS')\n",
    "clean_new(df)"
   ]
  },
  {
   "cell_type": "code",
   "execution_count": 25,
   "id": "aaf7802f",
   "metadata": {},
   "outputs": [
    {
     "data": {
      "text/plain": [
       "(20050, 34)"
      ]
     },
     "execution_count": 25,
     "metadata": {},
     "output_type": "execute_result"
    }
   ],
   "source": [
    "#adding 69 rows of data\n",
    "df = pd.read_excel('05312012_HelenaGW.XLS')\n",
    "clean_new(df)"
   ]
  },
  {
   "cell_type": "code",
   "execution_count": 27,
   "id": "7c701063",
   "metadata": {},
   "outputs": [
    {
     "data": {
      "text/plain": [
       "(20084, 34)"
      ]
     },
     "execution_count": 27,
     "metadata": {},
     "output_type": "execute_result"
    }
   ],
   "source": [
    "#adding 34 rows of data\n",
    "df = pd.read_excel('06042019_183282.XLS')\n",
    "clean_new(df)"
   ]
  },
  {
   "cell_type": "code",
   "execution_count": 29,
   "id": "20eff80a",
   "metadata": {},
   "outputs": [
    {
     "data": {
      "text/plain": [
       "(20127, 34)"
      ]
     },
     "execution_count": 29,
     "metadata": {},
     "output_type": "execute_result"
    }
   ],
   "source": [
    "#adding 43 rows of data\n",
    "df = pd.read_excel('06052018_bETTY_sHARP.xls')\n",
    "clean_new(df)"
   ]
  },
  {
   "cell_type": "code",
   "execution_count": 31,
   "id": "ea4c6dbd",
   "metadata": {},
   "outputs": [
    {
     "data": {
      "text/plain": [
       "(20231, 34)"
      ]
     },
     "execution_count": 31,
     "metadata": {},
     "output_type": "execute_result"
    }
   ],
   "source": [
    "#adding 104 rows of data\n",
    "df = pd.read_excel('06252020_TMC.XLS')\n",
    "clean_new(df)"
   ]
  },
  {
   "cell_type": "code",
   "execution_count": 33,
   "id": "cf3d0083",
   "metadata": {},
   "outputs": [
    {
     "data": {
      "text/plain": [
       "(20271, 34)"
      ]
     },
     "execution_count": 33,
     "metadata": {},
     "output_type": "execute_result"
    }
   ],
   "source": [
    "#adding 40 rows of data\n",
    "df = pd.read_excel('7012019_Lucky_Strike.XLS')\n",
    "clean_new(df)"
   ]
  },
  {
   "cell_type": "code",
   "execution_count": 35,
   "id": "56701a3f",
   "metadata": {},
   "outputs": [
    {
     "data": {
      "text/plain": [
       "(20334, 34)"
      ]
     },
     "execution_count": 35,
     "metadata": {},
     "output_type": "execute_result"
    }
   ],
   "source": [
    "#adding 63 rows of data\n",
    "df = pd.read_excel('07082011_HelenaGW.XLS')\n",
    "clean_new(df)"
   ]
  },
  {
   "cell_type": "code",
   "execution_count": 38,
   "id": "94d98932",
   "metadata": {},
   "outputs": [
    {
     "data": {
      "text/plain": [
       "(20337, 34)"
      ]
     },
     "execution_count": 38,
     "metadata": {},
     "output_type": "execute_result"
    }
   ],
   "source": [
    "#adding 3 rows of data\n",
    "df = pd.read_excel('08232017_Blue_Grouse.XLS')\n",
    "clean_new(df)"
   ]
  },
  {
   "cell_type": "code",
   "execution_count": 40,
   "id": "78856272",
   "metadata": {},
   "outputs": [
    {
     "data": {
      "text/plain": [
       "(20339, 34)"
      ]
     },
     "execution_count": 40,
     "metadata": {},
     "output_type": "execute_result"
    }
   ],
   "source": [
    "#adding 2 rows of data\n",
    "df = pd.read_excel('08292011_IndSample.XLS')\n",
    "clean_new(df)"
   ]
  },
  {
   "cell_type": "code",
   "execution_count": 44,
   "id": "8179909a",
   "metadata": {},
   "outputs": [
    {
     "data": {
      "text/plain": [
       "(20420, 34)"
      ]
     },
     "execution_count": 44,
     "metadata": {},
     "output_type": "execute_result"
    }
   ],
   "source": [
    "#adding 63 rows of data\n",
    "df = pd.read_excel('09192012_HelenaGW.XLS')\n",
    "clean_new(df)"
   ]
  },
  {
   "cell_type": "code",
   "execution_count": 50,
   "id": "f5463761",
   "metadata": {},
   "outputs": [
    {
     "data": {
      "text/plain": [
       "(20563, 34)"
      ]
     },
     "execution_count": 50,
     "metadata": {},
     "output_type": "execute_result"
    }
   ],
   "source": [
    "#adding 143 rows of data\n",
    "df = pd.read_excel('H21040232.xls')\n",
    "clean_new(df)"
   ]
  },
  {
   "cell_type": "code",
   "execution_count": 53,
   "id": "cae49d68",
   "metadata": {},
   "outputs": [
    {
     "data": {
      "text/plain": [
       "(20584, 34)"
      ]
     },
     "execution_count": 53,
     "metadata": {},
     "output_type": "execute_result"
    }
   ],
   "source": [
    "#adding 21 rows\n",
    "df = pd.read_excel('H22020521_MT-eWQX (EQuIS).xls')\n",
    "clean_new(df)"
   ]
  },
  {
   "cell_type": "code",
   "execution_count": 54,
   "id": "43c57fcb",
   "metadata": {},
   "outputs": [
    {
     "data": {
      "text/plain": [
       "21"
      ]
     },
     "execution_count": 54,
     "metadata": {},
     "output_type": "execute_result"
    }
   ],
   "source": [
    "len(df)"
   ]
  },
  {
   "cell_type": "code",
   "execution_count": null,
   "id": "fff3e37b",
   "metadata": {},
   "outputs": [],
   "source": [
    "#check formatting of result_notes columns\n",
    "df = pd.read_excel('H21100392_MT-eWQX (EQuIS).xls')\n",
    "clean_new(df)\n",
    "\n",
    "df = pd.read_excel('H20100655_MT-eWQX (EQuIS).xls')\n",
    "clean_new(df)\n",
    "\n",
    "df = pd.read_excel('11192012_HelenaGW.XLS')\n",
    "clean_new(df)\n",
    "\n",
    "df = pd.read_excel('11162012_HeleaGW.XLS')\n",
    "clean_new(df)\n",
    "\n",
    "df = pd.read_excel('10312017_PWS.XLS')\n",
    "clean_new(df)\n",
    "\n",
    "df = pd.read_excel('08092018_ResSample.XLS')\n",
    "clean_new(df)\n",
    "\n",
    "df = pd.read_excel('05122011_6993MTD.XLS')\n",
    "clean_new(df)"
   ]
  }
 ],
 "metadata": {
  "kernelspec": {
   "display_name": "Python 3 (ipykernel)",
   "language": "python",
   "name": "python3"
  },
  "language_info": {
   "codemirror_mode": {
    "name": "ipython",
    "version": 3
   },
   "file_extension": ".py",
   "mimetype": "text/x-python",
   "name": "python",
   "nbconvert_exporter": "python",
   "pygments_lexer": "ipython3",
   "version": "3.9.12"
  }
 },
 "nbformat": 4,
 "nbformat_minor": 5
}
